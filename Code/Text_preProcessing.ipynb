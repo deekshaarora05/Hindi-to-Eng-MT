{
  "nbformat": 4,
  "nbformat_minor": 0,
  "metadata": {
    "colab": {
      "name": "Text_preProcessing.ipynb",
      "provenance": [],
      "collapsed_sections": []
    },
    "kernelspec": {
      "name": "python3",
      "display_name": "Python 3"
    },
    "language_info": {
      "name": "python"
    }
  },
  "cells": [
    {
      "cell_type": "code",
      "metadata": {
        "id": "WqmgvFMCyIDD"
      },
      "source": [
        "import pandas as pd\n",
        "import numpy as np \n",
        "import csv"
      ],
      "execution_count": null,
      "outputs": []
    },
    {
      "cell_type": "code",
      "metadata": {
        "colab": {
          "base_uri": "https://localhost:8080/"
        },
        "id": "DV0x4q23y6fw",
        "outputId": "b7128f1f-ebe7-4f25-8005-3abb5378a306"
      },
      "source": [
        "from google.colab import drive\n",
        "drive.mount('/content/gdrive')"
      ],
      "execution_count": null,
      "outputs": [
        {
          "output_type": "stream",
          "text": [
            "Mounted at /content/gdrive\n"
          ],
          "name": "stdout"
        }
      ]
    },
    {
      "cell_type": "markdown",
      "metadata": {
        "id": "NzY663Zn-hNQ"
      },
      "source": [
        "##Cleaning the train.csv"
      ]
    },
    {
      "cell_type": "code",
      "metadata": {
        "colab": {
          "base_uri": "https://localhost:8080/"
        },
        "id": "BigvhAtj8ezo",
        "outputId": "43834574-05d7-4837-baaf-422372b5827a"
      },
      "source": [
        "train_set=[]\n",
        "with open('/content/gdrive/My Drive/Hindi to English MT/train.csv', 'r') as f:\n",
        "    csv_reader = csv.reader(f, delimiter=',')\n",
        "    for row in csv_reader:\n",
        "      train_set.append([row[1],row[2].lower()])\n",
        "train_set[0:10] "
      ],
      "execution_count": null,
      "outputs": [
        {
          "output_type": "execute_result",
          "data": {
            "text/plain": [
              "[['hindi', 'english'],\n",
              " ['एल सालवाडोर मे, जिन दोनो पक्षों ने सिविल-युद्ध से वापसी ली, उन्होंने वही काम किये जो कैदियों की कश्मकश के निदान हैं।',\n",
              "  \"in el salvador, both sides that withdrew from their civil war took moves that had been proven to mirror a prisoner's dilemma strategy.\"],\n",
              " ['मैं उनके साथ कोई लेना देना नहीं है.', 'i have nothing to do with them.'],\n",
              " ['-हटाओ रिक.', 'fuck them, rick.'],\n",
              " ['क्योंकि यह एक खुशियों भरी फ़िल्म है.', \"because it's a happy film.\"],\n",
              " ['The thought reaching the eyes...', 'the thought reaching the eyes...'],\n",
              " ['मैंने तुमे School से हटवा दिया .', 'i got you suspended.'],\n",
              " ['यह Vika, एक फूल है.', \"it's a flower, vika.\"],\n",
              " ['पर मेरे लिए उसका यहुदी विरोधी होना उसके कार्यों को और भी प्रशंसनीय बनाता है क्योंकि उसके पास भी पक्षपात करने के वही कारण थे जो बाकी फौजियों के पास थे पर उसकी सच जानने और उसे बनाए रखने की प्रेरणा सबसे ऊपर थी',\n",
              "  'but personally, for me, the fact that picquart was anti-semitic actually makes his actions more admirable, because he had the same prejudices, the same reasons to be biased as his fellow officers, but his motivation to find the truth and uphold it trumped all of that.'],\n",
              " ['नहीं, नहीं, नहीं... ठीक है, हम उह हूँ... हम कार्ड का उपयोग करेंगे.',\n",
              "  \"no, no, no... fine, we'll uh... we'll use the card.\"]]"
            ]
          },
          "metadata": {
            "tags": []
          },
          "execution_count": 23
        }
      ]
    },
    {
      "cell_type": "code",
      "metadata": {
        "colab": {
          "base_uri": "https://localhost:8080/"
        },
        "id": "tiEVHhDR-rGq",
        "outputId": "c604e57b-86c2-4e3d-9069-4e4b16b4d24f"
      },
      "source": [
        "len(train_set) #size of original train dataset"
      ],
      "execution_count": null,
      "outputs": [
        {
          "output_type": "execute_result",
          "data": {
            "text/plain": [
              "102323"
            ]
          },
          "metadata": {
            "tags": []
          },
          "execution_count": 24
        }
      ]
    },
    {
      "cell_type": "markdown",
      "metadata": {
        "id": "8_0pKOn3BDAR"
      },
      "source": [
        "#Removing examples having quotes from English"
      ]
    },
    {
      "cell_type": "code",
      "metadata": {
        "id": "peVrfDon-uQN"
      },
      "source": [
        "for hinEng in train_set:\n",
        "  flag=0\n",
        "  for i in range(65,91):\n",
        "    if chr(i) in hinEng[0]:\n",
        "      flag=1\n",
        "      break\n",
        "  if (flag!=1):\n",
        "    for i in range(97,123):\n",
        "      if chr(i) in hinEng[0]:\n",
        "        flag=1\n",
        "        break\n",
        "  if (flag==1):\n",
        "    train_set.remove(hinEng)"
      ],
      "execution_count": null,
      "outputs": []
    },
    {
      "cell_type": "code",
      "metadata": {
        "colab": {
          "base_uri": "https://localhost:8080/"
        },
        "id": "2jB06rT8Ap4d",
        "outputId": "a4d49d9c-8d0a-4820-c63a-cd794059253e"
      },
      "source": [
        "len(train_set) #size of new train dataset"
      ],
      "execution_count": null,
      "outputs": [
        {
          "output_type": "execute_result",
          "data": {
            "text/plain": [
              "96949"
            ]
          },
          "metadata": {
            "tags": []
          },
          "execution_count": 26
        }
      ]
    },
    {
      "cell_type": "code",
      "metadata": {
        "colab": {
          "base_uri": "https://localhost:8080/"
        },
        "id": "FIJgiJ6dD6bc",
        "outputId": "0cbc25df-db44-49d1-874a-4fa9617e4322"
      },
      "source": [
        "train_set[0]"
      ],
      "execution_count": null,
      "outputs": [
        {
          "output_type": "execute_result",
          "data": {
            "text/plain": [
              "['एल सालवाडोर मे, जिन दोनो पक्षों ने सिविल-युद्ध से वापसी ली, उन्होंने वही काम किये जो कैदियों की कश्मकश के निदान हैं।',\n",
              " \"in el salvador, both sides that withdrew from their civil war took moves that had been proven to mirror a prisoner's dilemma strategy.\"]"
            ]
          },
          "metadata": {
            "tags": []
          },
          "execution_count": 27
        }
      ]
    },
    {
      "cell_type": "code",
      "metadata": {
        "id": "A0K3vFurB_v3"
      },
      "source": [
        "with open('/content/gdrive/My Drive/Hindi to English MT/cleaned_train.csv', 'w') as f:\n",
        "    # using csv.writer method from CSV package\n",
        "    write = csv.writer(f)\n",
        "    write.writerow(['hindi','english'])\n",
        "    write.writerows(train_set)\n"
      ],
      "execution_count": null,
      "outputs": []
    },
    {
      "cell_type": "code",
      "metadata": {
        "id": "0BTIxdukzwDS"
      },
      "source": [
        "\n",
        "with open('cleaned_train.csv', 'w') as f:\n",
        "    # using csv.writer method from CSV package\n",
        "    write = csv.writer(f)\n",
        "    write.writerow(['hindi','english'])\n",
        "    write.writerows(train_set)\n"
      ],
      "execution_count": null,
      "outputs": []
    },
    {
      "cell_type": "code",
      "metadata": {
        "id": "Rn9F32IaEwgo",
        "colab": {
          "base_uri": "https://localhost:8080/",
          "height": 132
        },
        "outputId": "84b052f0-2318-4695-83f5-743fbb248591"
      },
      "source": [
        "for i in range(0,len(train_set)):\n",
        "  for j in range(0,2):\n",
        "    \"\\'re\",\" are\")\n",
        "    \"\\'m\",\" am\")\n",
        "    \"let\\'s\",\"let us\")\n",
        "    \"\\'s\",\" is\")\n",
        "    \"\\'ve\",\" have\")\n",
        "    \"\\'ll\",\" will\")\n",
        "    \"\\'re\",\" are\")\n",
        "    \"don\\'t\",\"do not\")\n",
        "    \"didn't\",\"did not\")\n",
        "    \"can\\'t\",\"can not\")\n",
        "    \"couldn\\'t\",\"could not\")\n",
        "    \"wouldn\\'t\",\"would not\")\n",
        "    \"doesn\\'t\",\"does not\")\n",
        "    \"isn\\'t\",\"is not\")\n",
        "    \"won\\'t\",\"will not\")\n",
        "    \"weren\\'t\",\"were not\")\n",
        "    \"hadn\\'t\",\"had not\")\n",
        "    \"aren\\'t\",\"are not\")\n",
        "    \"hasn\\'t\",\"has not\")\n",
        "    \"wasn\\'t\",\"was not\")\n",
        "    \"shouldn\\'t\",\"should not\")\n",
        "    \"ain\\'t\",\"am not\")\n",
        "    \"-\",\" \")\n",
        "    \"(\",\" \")\n",
        "    \")\",\" \")\n",
        "    \"{\",\" \")\n",
        "    \"}\",\" \")\n",
        "    \"[\",\" \")\n",
        "    \"]\",\" \")\n",
        "    \":\",\" \")\n",
        "    \"\\'\",\" \")\n",
        "    \"\\\"\",\" \")\n",
        "    \"\\&\",\" and \")\n",
        "    \",\",\" \")\n",
        "    \"#\",\" \")\n",
        "    \"/\",\" \")\n",
        "    \"\\\\\",\" \")\n",
        "    \"♪\",\" \")\n",
        "    \"\\=\",\" \")\n",
        "    \"¶\",\" \")\n",
        "    \"~\",\" \")\n",
        "    \"  \",\" \")\n",
        "    t\"...\",\" \")\n",
        "    t\".\",\"|\")\n",
        "    t\"....\",\" \")\n",
        "    t\"...\",\" \")\n",
        "    t\"..\",\" \")\n",
        "with open('/content/gdrive/My Drive/Hindi to English MT/pre_processed_train.csv', 'w') as f:\n",
        "    write = csv.writer(f)\n",
        "    write.writerow(['hindi','english'])\n",
        "    write.writerows(train_set)"
      ],
      "execution_count": null,
      "outputs": [
        {
          "output_type": "error",
          "ename": "SyntaxError",
          "evalue": "ignored",
          "traceback": [
            "\u001b[0;36m  File \u001b[0;32m\"<ipython-input-1-36de40a4d586>\"\u001b[0;36m, line \u001b[0;32m3\u001b[0m\n\u001b[0;31m    \"\\'re\",\" are\")\u001b[0m\n\u001b[0m                 ^\u001b[0m\n\u001b[0;31mSyntaxError\u001b[0m\u001b[0;31m:\u001b[0m invalid syntax\n"
          ]
        }
      ]
    },
    {
      "cell_type": "code",
      "metadata": {
        "id": "FfS2HpKlDdn-"
      },
      "source": [
        ""
      ],
      "execution_count": null,
      "outputs": []
    },
    {
      "cell_type": "code",
      "metadata": {
        "colab": {
          "base_uri": "https://localhost:8080/"
        },
        "id": "S0OEsv75BcDQ",
        "outputId": "21dc103d-eeef-4231-c7a0-15cfe9d13865"
      },
      "source": [
        "import csv\n",
        "import numpy as np\n",
        "train_set=[]\n",
        "i=0\n",
        "with open('train.csv', 'r') as f:\n",
        "    csv_reader = csv.reader(f, delimiter=',')\n",
        "    for row in csv_reader:\n",
        "      if (i==0):\n",
        "        i+=1\n",
        "        continue\n",
        "      train_set.append([row[1],row[2].lower()])\n",
        "train_set[0:10] "
      ],
      "execution_count": null,
      "outputs": [
        {
          "output_type": "execute_result",
          "data": {
            "text/plain": [
              "[['एल सालवाडोर मे, जिन दोनो पक्षों ने सिविल-युद्ध से वापसी ली, उन्होंने वही काम किये जो कैदियों की कश्मकश के निदान हैं।',\n",
              "  \"in el salvador, both sides that withdrew from their civil war took moves that had been proven to mirror a prisoner's dilemma strategy.\"],\n",
              " ['मैं उनके साथ कोई लेना देना नहीं है.', 'i have nothing to do with them.'],\n",
              " ['-हटाओ रिक.', 'fuck them, rick.'],\n",
              " ['क्योंकि यह एक खुशियों भरी फ़िल्म है.', \"because it's a happy film.\"],\n",
              " ['The thought reaching the eyes...', 'the thought reaching the eyes...'],\n",
              " ['मैंने तुमे School से हटवा दिया .', 'i got you suspended.'],\n",
              " ['यह Vika, एक फूल है.', \"it's a flower, vika.\"],\n",
              " ['पर मेरे लिए उसका यहुदी विरोधी होना उसके कार्यों को और भी प्रशंसनीय बनाता है क्योंकि उसके पास भी पक्षपात करने के वही कारण थे जो बाकी फौजियों के पास थे पर उसकी सच जानने और उसे बनाए रखने की प्रेरणा सबसे ऊपर थी',\n",
              "  'but personally, for me, the fact that picquart was anti-semitic actually makes his actions more admirable, because he had the same prejudices, the same reasons to be biased as his fellow officers, but his motivation to find the truth and uphold it trumped all of that.'],\n",
              " ['नहीं, नहीं, नहीं... ठीक है, हम उह हूँ... हम कार्ड का उपयोग करेंगे.',\n",
              "  \"no, no, no... fine, we'll uh... we'll use the card.\"],\n",
              " ['- क्या भाषा क्या वे वहाँ बात की?', '- what language do they speak there?']]"
            ]
          },
          "metadata": {
            "tags": []
          },
          "execution_count": 3
        }
      ]
    },
    {
      "cell_type": "code",
      "metadata": {
        "id": "UDUefPyZs0iu"
      },
      "source": [
        "processing_dict={\"\\'re\": \"are\",\"\\'m\":\" am\", \"let\\'s\":\"let us\",\"\\'s\":\" is\",\"\\'ve\":\" have\",\"\\'ll\":\" will\",\n",
        "    \"\\'re\":\" are\", \"don\\'t\":\"do not\",\"didn't\":\"did not\",\"can\\'t\":\"can not\",\"couldn\\'t\":\"could not\",\n",
        "    \"wouldn\\'t\":\"would not\", \"doesn\\'t\":\"does not\", \"isn\\'t\":\"is not\",\"won\\'t\":\"will not\",\n",
        "    \"weren\\'t\":\"were not\",\"hadn\\'t\":\"had not\",\"aren\\'t\":\"are not\", \"hasn\\'t\":\"has not\",\n",
        "    \"wasn\\'t\":\"was not\", \"shouldn\\'t\":\"should not\",\"ain\\'t\":\"am not\",\"-\":\" \", \"(\":\" \",\")\":\" \",\"{\":\" \",\n",
        "    \"}\":\" \",\"[\":\" \", \"]\":\" \",\":\":\" \", \"\\'\":\" \",\"\\\"\":\" \",\"\\&\":\" and \", \",\":\" \",\"#\":\" \", \"/\":\" \",\"\\\\\":\" \",\n",
        "    \"♪\":\" \",\"\\=\":\" \",\"¶\":\" \",\"~\":\" \",\"  \":\" \"}\n",
        "for i in range(0,len(train_set)):\n",
        "  for j in range(0,2):\n",
        "    for (src,trg) in processing_dict.items():\n",
        "      if src in train_set[i][j]:\n",
        "        train_set[i][j]=train_set[i][j].replace(src,trg)"
      ],
      "execution_count": null,
      "outputs": []
    },
    {
      "cell_type": "code",
      "metadata": {
        "colab": {
          "base_uri": "https://localhost:8080/"
        },
        "id": "N0LSlHElDkqH",
        "outputId": "7ae63e6c-0371-450f-9091-8e53f930359a"
      },
      "source": [
        "train_set[0:20]"
      ],
      "execution_count": null,
      "outputs": [
        {
          "output_type": "execute_result",
          "data": {
            "text/plain": [
              "[['एल सालवाडोर मे जिन दोनो पक्षों ने सिविल युद्ध से वापसी ली उन्होंने वही काम किये जो कैदियों की कश्मकश के निदान हैं।',\n",
              "  'in el salvador both sides that withdrew from their civil war took moves that had been proven to mirror a prisoner is dilemma strategy.'],\n",
              " ['मैं उनके साथ कोई लेना देना नहीं है.', 'i have nothing to do with them.'],\n",
              " [' हटाओ रिक.', 'fuck them rick.'],\n",
              " ['क्योंकि यह एक खुशियों भरी फ़िल्म है.', 'because it is a happy film.'],\n",
              " ['The thought reaching the eyes...', 'the thought reaching the eyes...'],\n",
              " ['मैंने तुमे School से हटवा दिया .', 'i got you suspended.'],\n",
              " ['यह Vika एक फूल है.', 'it is a flower vika.'],\n",
              " ['पर मेरे लिए उसका यहुदी विरोधी होना उसके कार्यों को और भी प्रशंसनीय बनाता है क्योंकि उसके पास भी पक्षपात करने के वही कारण थे जो बाकी फौजियों के पास थे पर उसकी सच जानने और उसे बनाए रखने की प्रेरणा सबसे ऊपर थी',\n",
              "  'but personally for me the fact that picquart was anti semitic actually makes his actions more admirable because he had the same prejudices the same reasons to be biased as his fellow officers but his motivation to find the truth and uphold it trumped all of that.'],\n",
              " ['नहीं नहीं नहीं... ठीक है हम उह हूँ... हम कार्ड का उपयोग करेंगे.',\n",
              "  'no no no... fine we will uh... we will use the card.'],\n",
              " [' क्या भाषा क्या वे वहाँ बात की?', ' what language do they speak there?'],\n",
              " [' गन क्लिक करके ', ' gun clicking '],\n",
              " ['ये बिलकुल रोमांचकारी अनुभव है।', 'it is thrilling.'],\n",
              " ['तो स्मार्ट में हमारे पास लक्ष्य के अलावा मलेरिया टीका विकसित करने के हम अफ्रीकी वैज्ञानिकों को भी प्रशिक्षण दे रहे हैं क्योंकि अफ्रीका में बीमारी का बोझ काफी ज़्यादा है और आपको उन लोगों की आवश्यकता है जो सीमाओं को आगे बढ़ाना जारी रखेंगे विज्ञान में अफ्रीका में।',\n",
              "  'so in smart apart from the goal that we have to develop a malaria vaccine we are also training african scientists because the burden of disease in africa is high and you need people who will continue to push the boundaries in science in africa.'],\n",
              " ['उससे बदतर हमारे पेशे ने कानून को जटिलता का चोगा पहना दिया है।',\n",
              "  'worse our profession has shrouded law in a cloak of complexity.'],\n",
              " [' औरमैंउसे वहाँखड़े देखा थाएक ', ' and i saw her standing there '],\n",
              " ['बकवास आप क्या कर रहे हैं...', 'what the fuck are you...'],\n",
              " ['क्या आपको याद है जब हमने देखा है डौग कि प्रतिमा पर impaled गद्दे?',\n",
              "  'do you remember when we saw doug is mattress impaled on that statue?'],\n",
              " ['कोई प्यार के लिए एडी?', 'no love for eddie?'],\n",
              " ['अच्छा विचार . अच्छा फोन छत पर ..', 'good idea. good call. on the roof.'],\n",
              " ['यह एक बहुत आसान हो गया होता एक सप्ताह पहले।',\n",
              "  'this would have been a lot easier a week ago.']]"
            ]
          },
          "metadata": {
            "tags": []
          },
          "execution_count": 6
        }
      ]
    },
    {
      "cell_type": "code",
      "metadata": {
        "id": "DdS9mDujDrUW"
      },
      "source": [
        ""
      ],
      "execution_count": null,
      "outputs": []
    }
  ]
}